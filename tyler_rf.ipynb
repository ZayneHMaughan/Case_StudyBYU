{
 "cells": [
  {
   "cell_type": "code",
   "execution_count": 1,
   "metadata": {},
   "outputs": [
    {
     "name": "stderr",
     "output_type": "stream",
     "text": [
      "c:\\Users\\benke\\anaconda3\\envs\\durham\\Lib\\site-packages\\tqdm\\auto.py:21: TqdmWarning: IProgress not found. Please update jupyter and ipywidgets. See https://ipywidgets.readthedocs.io/en/stable/user_install.html\n",
      "  from .autonotebook import tqdm as notebook_tqdm\n"
     ]
    }
   ],
   "source": [
    "import pandas as pd\n",
    "from sklearn.ensemble import RandomForestRegressor\n",
    "from sklearn.metrics import mean_squared_error, mean_absolute_error\n",
    "from sklearn.preprocessing import OneHotEncoder\n",
    "from math import sqrt\n",
    "import shap\n",
    "import numpy as np"
   ]
  },
  {
   "cell_type": "code",
   "execution_count": 77,
   "metadata": {},
   "outputs": [],
   "source": [
    "def random_forest_forecast(train, X_test):\n",
    "    y_train = train['num_crimes']\n",
    "    train_dates = train['date']\n",
    "    X_train = train.drop(columns=['num_crimes', 'date'])\n",
    "    # fit model\n",
    "    model = RandomForestRegressor(n_estimators=100)\n",
    "    model.fit(X_train, y_train)\n",
    "    # make a one-step prediction\n",
    "    yhat = model.predict(pd.DataFrame(X_test))\n",
    "    return yhat[0]\n",
    "\n",
    "\n",
    "def walk_forward_validation(train_data, test_data):\n",
    "    predictions = []\n",
    "\n",
    "    train = train_data\n",
    "    test = test_data\n",
    "\n",
    "    history = train\n",
    "\n",
    "    # step over each time-step in the test set\n",
    "    for i in range(len(test)):\n",
    "        # split test row into input and output columns\n",
    "        y_test = test['num_crimes'].iloc[i]\n",
    "        X_test = test.iloc[i]\n",
    "        X_test = X_test.drop(['num_crimes', 'date'])\n",
    "        X_test = pd.DataFrame(X_test).transpose()\n",
    "        # fit model on history and make a prediction\n",
    "        yhat = random_forest_forecast(history, X_test)\n",
    "        # store forecast in list of predictions\n",
    "        predictions.append(yhat)\n",
    "        # add actual observation to history for the next loop\n",
    "        X_test['num_crimes'] = yhat\n",
    "        history = pd.concat([history, X_test])\n",
    "        # summarize progress\n",
    "        print('>expected=%.1f, predicted=%.1f' % (y_test, yhat))\n",
    "    # estimate prediction error\n",
    "    error = mean_squared_error(test['num_crimes'], predictions)\n",
    "    return error, test['num_crimes'], predictions"
   ]
  },
  {
   "cell_type": "code",
   "execution_count": 78,
   "metadata": {},
   "outputs": [],
   "source": [
    "day_data = pd.read_csv('../day_data.csv')\n",
    "day_data['date'] = pd.to_datetime(day_data['date'], format=\"%Y-%m-%d\")\n",
    "day_data['holiday'] = day_data['holiday'].fillna('0')\n",
    "\n",
    "onehot = OneHotEncoder(categories='auto', drop=None, sparse_output=False)\n",
    "holidays = onehot.fit_transform(day_data[['holiday']])\n",
    "holidays = pd.DataFrame(holidays, columns=onehot.categories_)\n",
    "\n",
    "onehot = OneHotEncoder(categories='auto', drop='first', sparse_output=False)\n",
    "wd = onehot.fit_transform(day_data[['wd']])\n",
    "wd = pd.DataFrame(wd, columns=onehot.get_feature_names_out(['wd']))\n",
    "\n",
    "day_data = pd.concat([day_data, holidays, wd], axis=1)\n",
    "day_data = day_data.drop(columns=['holiday', ('0',), 'wd'])\n",
    "day_data.columns = day_data.columns.astype(str)\n",
    "\n",
    "cutoff_date = '2024-01-01'"
   ]
  },
  {
   "cell_type": "code",
   "execution_count": 79,
   "metadata": {},
   "outputs": [
    {
     "name": "stderr",
     "output_type": "stream",
     "text": [
      "C:\\Users\\benke\\AppData\\Local\\Temp\\ipykernel_636\\2676617810.py:2: SettingWithCopyWarning: \n",
      "A value is trying to be set on a copy of a slice from a DataFrame.\n",
      "Try using .loc[row_indexer,col_indexer] = value instead\n",
      "\n",
      "See the caveats in the documentation: https://pandas.pydata.org/pandas-docs/stable/user_guide/indexing.html#returning-a-view-versus-a-copy\n",
      "  train_data['x1'] = train_data['num_crimes'].shift(1)\n",
      "C:\\Users\\benke\\AppData\\Local\\Temp\\ipykernel_636\\2676617810.py:3: SettingWithCopyWarning: \n",
      "A value is trying to be set on a copy of a slice from a DataFrame.\n",
      "Try using .loc[row_indexer,col_indexer] = value instead\n",
      "\n",
      "See the caveats in the documentation: https://pandas.pydata.org/pandas-docs/stable/user_guide/indexing.html#returning-a-view-versus-a-copy\n",
      "  train_data['x2'] = train_data['num_crimes'].shift(2)\n",
      "C:\\Users\\benke\\AppData\\Local\\Temp\\ipykernel_636\\2676617810.py:4: SettingWithCopyWarning: \n",
      "A value is trying to be set on a copy of a slice from a DataFrame.\n",
      "Try using .loc[row_indexer,col_indexer] = value instead\n",
      "\n",
      "See the caveats in the documentation: https://pandas.pydata.org/pandas-docs/stable/user_guide/indexing.html#returning-a-view-versus-a-copy\n",
      "  train_data['x3'] = train_data['num_crimes'].shift(3)\n",
      "C:\\Users\\benke\\AppData\\Local\\Temp\\ipykernel_636\\2676617810.py:13: SettingWithCopyWarning: \n",
      "A value is trying to be set on a copy of a slice from a DataFrame.\n",
      "Try using .loc[row_indexer,col_indexer] = value instead\n",
      "\n",
      "See the caveats in the documentation: https://pandas.pydata.org/pandas-docs/stable/user_guide/indexing.html#returning-a-view-versus-a-copy\n",
      "  test_data['x1'] = test_data['num_crimes'].shift(1)\n",
      "C:\\Users\\benke\\AppData\\Local\\Temp\\ipykernel_636\\2676617810.py:14: SettingWithCopyWarning: \n",
      "A value is trying to be set on a copy of a slice from a DataFrame.\n",
      "Try using .loc[row_indexer,col_indexer] = value instead\n",
      "\n",
      "See the caveats in the documentation: https://pandas.pydata.org/pandas-docs/stable/user_guide/indexing.html#returning-a-view-versus-a-copy\n",
      "  test_data['x2'] = test_data['num_crimes'].shift(2)\n",
      "C:\\Users\\benke\\AppData\\Local\\Temp\\ipykernel_636\\2676617810.py:15: SettingWithCopyWarning: \n",
      "A value is trying to be set on a copy of a slice from a DataFrame.\n",
      "Try using .loc[row_indexer,col_indexer] = value instead\n",
      "\n",
      "See the caveats in the documentation: https://pandas.pydata.org/pandas-docs/stable/user_guide/indexing.html#returning-a-view-versus-a-copy\n",
      "  test_data['x3'] = test_data['num_crimes'].shift(3)\n"
     ]
    }
   ],
   "source": [
    "train_data = day_data[day_data['date'] < cutoff_date]\n",
    "train_data['x1'] = train_data['num_crimes'].shift(1)\n",
    "train_data['x2'] = train_data['num_crimes'].shift(2)\n",
    "train_data['x3'] = train_data['num_crimes'].shift(3)\n",
    "train_data = train_data.ffill().bfill().ffill()\n",
    "train_dates = train_data['date']\n",
    "\n",
    "y_train = train_data['num_crimes']\n",
    "X_train = train_data.drop(columns=['num_crimes', 'date'])\n",
    "\n",
    "\n",
    "test_data = day_data[(day_data['date'] >= cutoff_date) & (day_data['date'] <= '2024-01-31')]\n",
    "test_data['x1'] = test_data['num_crimes'].shift(1)\n",
    "test_data['x2'] = test_data['num_crimes'].shift(2)\n",
    "test_data['x3'] = test_data['num_crimes'].shift(3)\n",
    "test_data = test_data.ffill().bfill().ffill()\n",
    "y_test = test_data['num_crimes']\n",
    "test_dates = test_data['date']\n",
    "X_test = test_data.drop(columns=['num_crimes', 'date'])"
   ]
  },
  {
   "cell_type": "code",
   "execution_count": 80,
   "metadata": {},
   "outputs": [],
   "source": [
    "mse, ytrue, yhat = walk_forward_validation(train_data, test_data)"
   ]
  },
  {
   "cell_type": "code",
   "execution_count": 58,
   "metadata": {},
   "outputs": [
    {
     "name": "stdout",
     "output_type": "stream",
     "text": [
      ">expected=49.0, predicted=43.6\n",
      ">expected=35.0, predicted=42.4\n",
      ">expected=43.0, predicted=39.8\n",
      ">expected=44.0, predicted=37.6\n",
      ">expected=43.0, predicted=39.1\n",
      ">expected=44.0, predicted=39.4\n",
      ">expected=38.0, predicted=38.5\n",
      ">expected=40.0, predicted=39.5\n",
      ">expected=29.0, predicted=39.0\n",
      ">expected=32.0, predicted=38.3\n",
      ">expected=36.0, predicted=33.3\n",
      ">expected=30.0, predicted=32.2\n",
      ">expected=33.0, predicted=29.9\n",
      ">expected=23.0, predicted=29.2\n",
      ">expected=29.0, predicted=32.4\n",
      ">expected=35.0, predicted=31.0\n",
      ">expected=29.0, predicted=31.1\n",
      ">expected=35.0, predicted=34.7\n",
      ">expected=32.0, predicted=35.0\n",
      ">expected=26.0, predicted=35.8\n",
      ">expected=29.0, predicted=33.1\n",
      ">expected=28.0, predicted=31.8\n",
      ">expected=39.0, predicted=34.0\n",
      ">expected=24.0, predicted=37.8\n",
      ">expected=28.0, predicted=35.3\n",
      ">expected=36.0, predicted=31.9\n",
      ">expected=26.0, predicted=35.9\n",
      ">expected=30.0, predicted=32.3\n",
      ">expected=41.0, predicted=32.9\n",
      ">expected=37.0, predicted=36.6\n",
      ">expected=30.0, predicted=37.8\n"
     ]
    }
   ],
   "source": [
    "# # step over each time-step in the test set\n",
    "# for i in range(len(test)):\n",
    "#     # split test row into input and output columns\n",
    "#     y_test = test['num_crimes'].iloc[i]\n",
    "#     X_test = test.iloc[i]\n",
    "#     X_test = X_test.drop(['num_crimes', 'date'])\n",
    "#     X_test = pd.DataFrame(X_test).transpose()\n",
    "#     # fit model on history and make a prediction\n",
    "#     yhat = random_forest_forecast(history, X_test)\n",
    "#     # store forecast in list of predictions\n",
    "#     predictions.append(yhat)\n",
    "#     # add actual observation to history for the next loop\n",
    "#     X_test['num_crimes'] = yhat\n",
    "#     history = pd.concat([history, X_test])\n",
    "#     # summarize progress\n",
    "#     print('>expected=%.1f, predicted=%.1f' % (y_test, yhat))\n",
    "# # estimate prediction error\n",
    "# # error = mean_absolute_error(test[:, -1], predictions)"
   ]
  }
 ],
 "metadata": {
  "kernelspec": {
   "display_name": "durham",
   "language": "python",
   "name": "python3"
  },
  "language_info": {
   "codemirror_mode": {
    "name": "ipython",
    "version": 3
   },
   "file_extension": ".py",
   "mimetype": "text/x-python",
   "name": "python",
   "nbconvert_exporter": "python",
   "pygments_lexer": "ipython3",
   "version": "3.12.1"
  }
 },
 "nbformat": 4,
 "nbformat_minor": 2
}
